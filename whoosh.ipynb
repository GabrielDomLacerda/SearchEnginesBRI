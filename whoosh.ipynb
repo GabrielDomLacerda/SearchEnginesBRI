{
 "cells": [
  {
   "cell_type": "code",
   "execution_count": 36,
   "metadata": {},
   "outputs": [],
   "source": [
    "class Text:\n",
    "    def __init__(self, text):\n",
    "        text = text.split('.T\\n')\n",
    "        self.index = int(text[0])\n",
    "        text = text[1].split('.A\\n')\n",
    "        self.title = text[0].replace('\\n', '')\n",
    "        text = text[1].split('.B\\n')\n",
    "        self.author = text[0].replace('\\n', '')\n",
    "        text = text[1].split('.W\\n')\n",
    "        self.bibliography = text[0].replace('\\n', '')\n",
    "        self.words = text[1].replace('\\n', '')"
   ]
  },
  {
   "cell_type": "code",
   "execution_count": 42,
   "metadata": {},
   "outputs": [],
   "source": [
    "words = []\n",
    "with open('cran/cran.all.1400', 'r') as file:\n",
    "    txt = file.read()\n",
    "    txt = txt.split('.I')[1:]\n",
    "    words = list(map(lambda x : Text(x), txt))"
   ]
  }
 ],
 "metadata": {
  "kernelspec": {
   "display_name": "base",
   "language": "python",
   "name": "python3"
  },
  "language_info": {
   "codemirror_mode": {
    "name": "ipython",
    "version": 3
   },
   "file_extension": ".py",
   "mimetype": "text/x-python",
   "name": "python",
   "nbconvert_exporter": "python",
   "pygments_lexer": "ipython3",
   "version": "3.9.13"
  }
 },
 "nbformat": 4,
 "nbformat_minor": 2
}
